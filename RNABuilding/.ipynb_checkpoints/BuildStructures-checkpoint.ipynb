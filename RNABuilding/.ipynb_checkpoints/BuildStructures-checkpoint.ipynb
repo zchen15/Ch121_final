{
 "cells": [
  {
   "cell_type": "code",
   "execution_count": 8,
   "metadata": {},
   "outputs": [],
   "source": [
    "# General tools\n",
    "import numpy as np\n",
    "import scipy as sp\n",
    "import pandas as pd\n",
    "\n",
    "# libaries to view the structure file\n",
    "import Bio.PDB\n",
    "import parmed.gromacs\n",
    "import nglview\n",
    "\n",
    "from mdtools import *"
   ]
  },
  {
   "cell_type": "code",
   "execution_count": 9,
   "metadata": {},
   "outputs": [
    {
     "name": "stdout",
     "output_type": "stream",
     "text": [
      "python2 ./rna_tools/bin/extract_chain.py 4zt0_loading.pdb D\n"
     ]
    }
   ],
   "source": [
    "call_RNA_getchain('4zt0_loading.pdb', 'D', '../gRNA_loading.pdb')"
   ]
  },
  {
   "cell_type": "code",
   "execution_count": 10,
   "metadata": {},
   "outputs": [],
   "source": [
    "# rename everything to chain B\n",
    "#files = glob.glob('../cgI*.pdb')\n",
    "#for f in files:\n",
    "#    call_RenumberPDB(f,'B:1-1000')"
   ]
  },
  {
   "cell_type": "code",
   "execution_count": 11,
   "metadata": {},
   "outputs": [
    {
     "name": "stdout",
     "output_type": "stream",
     "text": [
      "Performing RNA threading on  cgI\n",
      "['./bin/rna_thread.linuxgccrelease -in:file:fasta aligned.fa -s gRNA.pdb -o cgI.pdb -seq_offset 0']\n",
      "retval =  127  elapse =  1.4683208465576172\n",
      "rna_thread failed\n",
      "Performing RNA threading on  cgIws\n",
      "['./bin/rna_thread.linuxgccrelease -in:file:fasta aligned.fa -s gRNA.pdb -o cgIws.pdb -seq_offset 0']\n",
      "retval =  127  elapse =  0.0039179325103759766\n",
      "rna_thread failed\n",
      "Performing RNA threading on  cgIns\n",
      "['./bin/rna_thread.linuxgccrelease -in:file:fasta aligned.fa -s gRNA.pdb -o cgIns.pdb -seq_offset 0']\n",
      "retval =  127  elapse =  0.003383159637451172\n",
      "rna_thread failed\n",
      "Performing RNA threading on  gRNA\n",
      "['./bin/rna_thread.linuxgccrelease -in:file:fasta aligned.fa -s gRNA.pdb -o gRNA.pdb -seq_offset 0']\n",
      "retval =  127  elapse =  0.0031659603118896484\n",
      "rna_thread failed\n",
      "Performing RNA threading on  gRNA_ws\n",
      "['./bin/rna_thread.linuxgccrelease -in:file:fasta aligned.fa -s gRNA.pdb -o gRNA_ws.pdb -seq_offset 0']\n",
      "retval =  127  elapse =  0.003446340560913086\n",
      "rna_thread failed\n",
      "Performing RNA threading on  gRNA_ns\n",
      "['./bin/rna_thread.linuxgccrelease -in:file:fasta aligned.fa -s gRNA.pdb -o gRNA_ns.pdb -seq_offset 0']\n",
      "retval =  127  elapse =  0.0033180713653564453\n",
      "rna_thread failed\n",
      "Performing RNA threading on  gRNA_nexus_del1\n",
      "['./bin/rna_thread.linuxgccrelease -in:file:fasta aligned.fa -s gRNA.pdb -o gRNA_nexus_del1.pdb -seq_offset 0']\n",
      "retval =  127  elapse =  0.003255128860473633\n",
      "rna_thread failed\n",
      "Performing RNA threading on  gRNA_nexus_del2\n",
      "['./bin/rna_thread.linuxgccrelease -in:file:fasta aligned.fa -s gRNA.pdb -o gRNA_nexus_del2.pdb -seq_offset 0']\n",
      "retval =  127  elapse =  0.0035686492919921875\n",
      "rna_thread failed\n",
      "Performing RNA threading on  gRNA_nexus_mut1\n",
      "['./bin/rna_thread.linuxgccrelease -in:file:fasta aligned.fa -s gRNA.pdb -o gRNA_nexus_mut1.pdb -seq_offset 0']\n",
      "retval =  127  elapse =  0.0033795833587646484\n",
      "rna_thread failed\n",
      "Performing RNA threading on  gRNA_nexus_xt1\n",
      "['./bin/rna_thread.linuxgccrelease -in:file:fasta aligned.fa -s gRNA.pdb -o gRNA_nexus_xt1.pdb -seq_offset 0']\n",
      "retval =  127  elapse =  0.003240823745727539\n",
      "rna_thread failed\n",
      "Performing RNA threading on  gRNA_handle_del1\n",
      "['./bin/rna_thread.linuxgccrelease -in:file:fasta aligned.fa -s gRNA.pdb -o gRNA_handle_del1.pdb -seq_offset 0']\n",
      "retval =  127  elapse =  0.0033292770385742188\n",
      "rna_thread failed\n",
      "Performing RNA threading on  gRNA_handle_del2\n",
      "['./bin/rna_thread.linuxgccrelease -in:file:fasta aligned.fa -s gRNA.pdb -o gRNA_handle_del2.pdb -seq_offset 0']\n",
      "retval =  127  elapse =  0.0032072067260742188\n",
      "rna_thread failed\n"
     ]
    }
   ],
   "source": [
    "# Thread the cgRNA onto the gRNA template\n",
    "pdb = 'gRNA.pdb'\n",
    "\n",
    "# First index is target name, second index is target, third index is template\n",
    "seq = [['cgI',\n",
    "        'uuagcggucuguuuuagagcuagaaauagcaaguuaaaauaaggcuaguccgACACAAGGGG----AAAUUAACAACACAACACACACAACACAGGccccgg',\n",
    "        'GAUGAGACGCguuuuagagcuagaaauagcaaguuaaaauaaggcuaguccguuaucaacuugaaa------------------------------aagugu'],\n",
    "       ['cgIws',\n",
    "        'uuagcggucuguuuuagagcuagaaauagcaaguuaaaauaaggcuaguccgACACAAUAUA----AAAUUAACAACACAACACACACAACACAGGUAUAgg',\n",
    "        'GAUGAGACGCguuuuagagcuagaaauagcaaguuaaaauaaggcuaguccguuaucaacuugaaa------------------------------aagugu'],\n",
    "       ['cgIns',\n",
    "        'uuagcggucuguuuuagagcuagaaauagcaaguuaaaauaaggcuaguccgACACAAuucc----AAAUUAACAACACAACACACACAACACAGGuuccgg',\n",
    "        'GAUGAGACGCguuuuagagcuagaaauagcaaguuaaaauaaggcuaguccguuaucaacuugaaa------------------------------aagugu'],\n",
    "       ['gRNA',\n",
    "        'uuagcggucuguuuuagagcuagaaauagcaaguuaaaauaaggcuaguccgACACAAACUUgaaaAAGUgu',\n",
    "        'GAUGAGACGCguuuuagagcuagaaauagcaaguuaaaauaaggcuaguccguuaucaACUUgaaaAAGUgu'],\n",
    "       ['gRNA_ws',\n",
    "        'uuagcggucuguuuuagagcuagaaauagcaaguuaaaauaaggcuaguccgACACAAGUGUgaaaGUGUgu',\n",
    "        'GAUGAGACGCguuuuagagcuagaaauagcaaguuaaaauaaggcuaguccguuaucaACUUgaaaAAGUgu'],\n",
    "       ['gRNA_ns',\n",
    "        'uuagcggucuguuuuagagcuagaaauagcaaguuaaaauaaggcuaguccgACACAAUUCCgaaaUUCCgu',\n",
    "        'GAUGAGACGCguuuuagagcuagaaauagcaaguuaaaauaaggcuaguccguuaucaACUUgaaaAAGUgu'],\n",
    "       ['gRNA_nexus_del1',\n",
    "        'GAUGAGACGCguuuuagagcuagaaauagcaaguuaaaauaaCCcuaguCCguuaucaACUUgaaaAAGUgu',\n",
    "        'GAUGAGACGCguuuuagagcuagaaauagcaaguuaaaauaaggcuaguccguuaucaACUUgaaaAAGUgu'],\n",
    "       ['gRNA_nexus_del2',\n",
    "        'GAUGAGACGCguuuuagagcuagaaauagcaaguuaaaauaaGGcuag-----CCguuaucaACUUgaaaAAGUgu',\n",
    "        'GAUGAGACGCguuuuagagcuagaaauagcaaguuaaaauaagg----cuaguccguuaucaACUUgaaaAAGUgu'],\n",
    "       ['gRNA_nexus_mut1',\n",
    "        'GAUGAGACGCguuuuagagcuagaaauagcaaguuaaaauaaGCcAUguGCguuaucaACUUgaaaAAGUgu',\n",
    "        'GAUGAGACGCguuuuagagcuagaaauagcaaguuaaaauaaggcuaguccguuaucaACUUgaaaAAGUgu'],\n",
    "       ['gRNA_nexus_xt1',\n",
    "        'GAUGAGACGCguuuuagagcuagaaauagcaaguuaaaauaaGGGcuagu-----CCCguuaucaACUUgaaaAAGUgu',\n",
    "        'GAUGAGACGCguuuuagagcuagaaauagcaaguuaaaauaagg------cuagu-ccguuaucaACUUgaaaAAGUgu'],\n",
    "       ['gRNA_handle_del1',\n",
    "        'uuagcggucuguuuuaGA--gcuagaa-------auagc---------UCuaaaauaaggcuaguccgACACAAACUUgaaaAAGUgu',\n",
    "        'GAUGAGACGCguuuua--GA-------gcuagaa-----auagcAAGU--uaaaauaaggcuaguccguuaucaACUUgaaaAAGUgu'],\n",
    "       ['gRNA_handle_del2',\n",
    "        'uuagcggucuguuuuaGA--------------UACU----uaaaauaaggcuaguccgACACAAACUUgaaaAAGUgu',\n",
    "        'GAUGAGACGCguuuua--GAgcuagaaauagc----AAGUuaaaauaaggcuaguccguuaucaACUUgaaaAAGUgu']]\n",
    "\n",
    "# Thread the sequences to the template structure together structure\n",
    "for i in range(0,len(seq)):\n",
    "    print('Performing RNA threading on ',seq[i][0])\n",
    "    call_RNA_thread(seq[i][1], seq[i][2], pdb,'aligned.fa', seq[i][0]+'.pdb',0)"
   ]
  },
  {
   "cell_type": "code",
   "execution_count": 6,
   "metadata": {},
   "outputs": [
    {
     "name": "stdout",
     "output_type": "stream",
     "text": [
      "['./bin/rna_denovo.linuxgccrelease -minimize_rna -vary_geometry -fixed_stems -s gRNA_handle_del1.pdb -sequence \"uuagcggucuguuuuagagcuagaaauagcucuaaaauaaggcuaguccgacacaaacuugaaaaagugu\" -secstruct \"..........((((((((((((....))))))))))))..((.....)).......((((....))))..\" -nstruct 1 -out:file:silent gRNA_handle_del1_denovo.out -tag gRNA_handle_del1_denovo.out']\n",
      "retval =  255  elapse =  0.6317765712738037\n"
     ]
    }
   ],
   "source": [
    "# First index is the sequence, second is the dot notatino structure\n",
    "# First index is target name, second index is target, third index is template\n",
    "seq = [['cgI',\n",
    "        'uuagcggucuguuuuagagcuagaaauagcaaguuaaaauaaggcuaguccgACACAAGGGGAAAUUAACAACACAACACACACAACACAGGccccgg',\n",
    "        '..........((((((..((((....))))....))))))..((.....)).......((((..............................))))..'],\n",
    "       ['gRNA_nexus_del2',\n",
    "        'GAUGAGACGCguuuuagagcuagaaauagcaaguuaaaauaaGGcaguCCguuaucaACUUgaaaAAGUgu',\n",
    "        '..........((((((..((((....))))....))))))..((....)).......((((....))))..'],\n",
    "       ['gRNA_nexus_xt1',\n",
    "        'GAUGAGACGCguuuuagagcuagaaauagcaaguuaaaauaaGGGcuaguCCCguuaucaACUUgaaaAAGUgu',\n",
    "        '..........((((((..((((....))))....))))))..(((.....))).......((((....))))..'],\n",
    "       ['gRNA_handle_del1',\n",
    "        'uuagcggucuguuuuaGAgcuagaaauagcUCuaaaauaaggcuaguccgACACAAACUUgaaaAAGUgu',\n",
    "        '..........((((((((((((....))))))))))))..((.....)).......((((....))))..'],\n",
    "       ['gRNA_handle_del2',\n",
    "        'uuagcggucuguuuuaGAUACUuaaaauaaggcuaguccgACACAAACUUgaaaAAGUgu',\n",
    "        '..........((((((......))))))..((.....)).......((((....))))..']]\n",
    "\n",
    "# Heal the broken loops from RNA threading with RNA denovo calls\n",
    "data = [-2]\n",
    "for i in data:\n",
    "    call_RNA_denovo(seq[i][1], seq[i][2], 1, seq[i][0]+'_denovo.out',\n",
    "                    '-minimize_rna -vary_geometry -fixed_stems -s '+seq[i][0]+'.pdb')"
   ]
  },
  {
   "cell_type": "code",
   "execution_count": 13,
   "metadata": {},
   "outputs": [
    {
     "name": "stdout",
     "output_type": "stream",
     "text": [
      "Performing RNA threading on  cgIws\n",
      "['./bin/rna_thread.linuxgccrelease -in:file:fasta aligned.fa -s cgI_denovo.pdb -o cgIws.pdb -seq_offset 0']\n",
      "retval =  0  elapse =  0.8259611129760742\n",
      "Performing RNA threading on  cgIns\n",
      "['./bin/rna_thread.linuxgccrelease -in:file:fasta aligned.fa -s cgI_denovo.pdb -o cgIns.pdb -seq_offset 0']\n",
      "retval =  0  elapse =  0.823206901550293\n"
     ]
    }
   ],
   "source": [
    "# First index is target name, second index is target, third index is template\n",
    "seq = [['cgIws',\n",
    "        'uuagcggucuguuuuagagcuagaaauagcaaguuaaaauaaggcuaguccgACACAAUAUAAAAUUAACAACACAACACACACAACACAGGUAUAgg',\n",
    "        'uuagcggucuguuuuagagcuagaaauagcaaguuaaaauaaggcuaguccgACACAAGGGGAAAUUAACAACACAACACACACAACACAGGccccgg'],\n",
    "       ['cgIns',\n",
    "        'uuagcggucuguuuuagagcuagaaauagcaaguuaaaauaaggcuaguccgACACAAuuccAAAUUAACAACACAACACACACAACACAGGuuccgg',\n",
    "        'uuagcggucuguuuuagagcuagaaauagcaaguuaaaauaaggcuaguccgACACAAGGGGAAAUUAACAACACAACACACACAACACAGGccccgg']]\n",
    "\n",
    "# Thread the sequences to the template structure together structure\n",
    "pdb = 'cgI_denovo.pdb'\n",
    "for i in range(0,len(seq)):\n",
    "    print('Performing RNA threading on ',seq[i][0])\n",
    "    call_RNA_thread(seq[i][1], seq[i][2], pdb,'aligned.fa', seq[i][0]+'.pdb',0)"
   ]
  },
  {
   "cell_type": "code",
   "execution_count": 12,
   "metadata": {},
   "outputs": [],
   "source": [
    "# Function to color gRNA\n",
    "def color_gRNA(view, domain, colors):\n",
    "    for i in range(0,len(colors)):\n",
    "        view.add_representation('cartoon','nucleic and '+str(domain[i][0])+'-'+str(domain[i][1]), color = colors[i])\n",
    "def add_axis(view):\n",
    "    view.shape.add_arrow([0,0,0],[0,0,100],[0,0,255],5.0,'Z')\n",
    "    view.shape.add_arrow([0,0,0],[0,100,0],[0,255,0],5.0,'Y')\n",
    "    view.shape.add_arrow([0,0,0],[100,0,0],[255,0,0],5.0,'X')"
   ]
  },
  {
   "cell_type": "code",
   "execution_count": 13,
   "metadata": {},
   "outputs": [],
   "source": [
    "#S1 = Bio.PDB.PDBParser().get_structure('gRNA',files[i])\n",
    "S1 = Bio.PDB.PDBParser().get_structure('gRNA','../gRNA_loading.pdb')\n",
    "S2 = Bio.PDB.PDBParser().get_structure('gRNA2','../dCas9_loading.pdb')\n",
    "nS2 = nglview.BiopythonStructure(S2)"
   ]
  },
  {
   "cell_type": "code",
   "execution_count": 14,
   "metadata": {},
   "outputs": [
    {
     "data": {
      "application/vnd.jupyter.widget-view+json": {
       "model_id": "a36cd060a8f944a8bf5bd9df42cc0a6b",
       "version_major": 2,
       "version_minor": 0
      },
      "text/plain": [
       "NGLWidget()"
      ]
     },
     "metadata": {},
     "output_type": "display_data"
    },
    {
     "data": {
      "application/vnd.jupyter.widget-view+json": {
       "model_id": "ad55fe9961d84af9804657420af89377",
       "version_major": 2,
       "version_minor": 0
      },
      "text/plain": [
       "Tab(children=(Box(children=(Box(children=(Box(children=(Label(value='step'), IntSlider(value=1, min=-100)), la…"
      ]
     },
     "metadata": {},
     "output_type": "display_data"
    }
   ],
   "source": [
    "view = nglview.show_biopython(S1, gui=True)\n",
    "view.add_structure(nS2)\n",
    "# gRNA template\n",
    "domains = [[1,10],[10,40],[23,26],[40,53],[53,58],[58,72],[63,66]]\n",
    "colors = ['red','blue','white','orange','purple','green','white']\n",
    "\n",
    "domains = [[1,20],[20,50],[33,36],[50,63],[63,68],[68,107],[72,103],[107,142]]\n",
    "colors = ['red','blue','white','orange','purple','green','white','brown']\n",
    "\n",
    "# cgRNA coloring\n",
    "domains = [[1,10],[10,40],[23,26],[40,53],[53,58],[58,98],[63,93]]\n",
    "colors = ['red','blue','white','orange','purple','green','white']\n",
    "\n",
    "view.clear_representations()\n",
    "color_gRNA(view, domains, colors)\n",
    "#add_axis(view)\n",
    "view.add_representation('licorice','nucleic')\n",
    "#view.add_representation('cartoon','nucleic')\n",
    "view.parameters={\"backgroundColor\":\"black\"}\n",
    "view"
   ]
  },
  {
   "cell_type": "code",
   "execution_count": null,
   "metadata": {},
   "outputs": [],
   "source": []
  }
 ],
 "metadata": {
  "kernelspec": {
   "display_name": "Python 3",
   "language": "python",
   "name": "python3"
  },
  "language_info": {
   "codemirror_mode": {
    "name": "ipython",
    "version": 3
   },
   "file_extension": ".py",
   "mimetype": "text/x-python",
   "name": "python",
   "nbconvert_exporter": "python",
   "pygments_lexer": "ipython3",
   "version": "3.6.8"
  }
 },
 "nbformat": 4,
 "nbformat_minor": 2
}
