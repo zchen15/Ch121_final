{
 "cells": [
  {
   "cell_type": "code",
   "execution_count": 2,
   "metadata": {},
   "outputs": [],
   "source": [
    "# General tools\n",
    "import numpy as np\n",
    "import scipy as sp\n",
    "import pandas as pd\n",
    "\n",
    "# libaries to view the structure file\n",
    "import Bio.PDB\n",
    "import parmed.gromacs\n",
    "import nglview\n",
    "\n",
    "import os\n",
    "import glob\n",
    "import subprocess"
   ]
  },
  {
   "cell_type": "code",
   "execution_count": 35,
   "metadata": {},
   "outputs": [],
   "source": [
    "# Function to color gRNA\n",
    "def color_gRNA(view, domain, colors):\n",
    "    for i in range(0,len(colors)):\n",
    "        view.add_representation('cartoon','nucleic and '+str(domain[i][0])+'-'+str(domain[i][1]), color = colors[i])\n",
    "def add_axis(view):\n",
    "    view.shape.add_arrow([0,0,0],[0,0,100],[0,0,255],5.0,'Z')\n",
    "    view.shape.add_arrow([0,0,0],[0,100,0],[0,255,0],5.0,'Y')\n",
    "    view.shape.add_arrow([0,0,0],[100,0,0],[255,0,0],5.0,'X')"
   ]
  },
  {
   "cell_type": "code",
   "execution_count": 80,
   "metadata": {
    "scrolled": true
   },
   "outputs": [],
   "source": [
    "S1 = Bio.PDB.PDBParser().get_structure('gRNA','cgIws.pdb')\n",
    "S2 = Bio.PDB.PDBParser().get_structure('dCas9','dCas9_loading.pdb')\n",
    "nS2 = nglview.BiopythonStructure(S2)"
   ]
  },
  {
   "cell_type": "code",
   "execution_count": 81,
   "metadata": {},
   "outputs": [
    {
     "data": {
      "application/vnd.jupyter.widget-view+json": {
       "model_id": "444ace5383364b17a7bb4aef9434b084",
       "version_major": 2,
       "version_minor": 0
      },
      "text/plain": [
       "NGLWidget()"
      ]
     },
     "metadata": {},
     "output_type": "display_data"
    },
    {
     "data": {
      "application/vnd.jupyter.widget-view+json": {
       "model_id": "261d2e9c2d024b218a8b1ad3b3173155",
       "version_major": 2,
       "version_minor": 0
      },
      "text/plain": [
       "Tab(children=(Box(children=(Box(children=(Box(children=(Label(value='step'), IntSlider(value=1, min=-100)), la…"
      ]
     },
     "metadata": {},
     "output_type": "display_data"
    }
   ],
   "source": [
    "view = nglview.show_biopython(S1, gui=True)\n",
    "view.add_structure(nS2)\n",
    "# gRNA template\n",
    "domains = [[1,10],[10,40],[23,26],[40,53],[53,58],[58,72],[63,66]]\n",
    "colors = ['red','blue','white','orange','purple','green','white']\n",
    "\n",
    "domains = [[1,20],[20,50],[33,36],[50,63],[63,68],[68,107],[72,103],[107,142]]\n",
    "colors = ['red','blue','white','orange','purple','green','white','brown']\n",
    "\n",
    "view.clear_representations()\n",
    "color_gRNA(view, domains, colors)\n",
    "#add_axis(view)\n",
    "view.add_representation('licorice','nucleic',color = 'resname')\n",
    "#view.add_representation('cartoon','nucleic')\n",
    "view.parameters={\"backgroundColor\":\"black\"}\n",
    "view"
   ]
  },
  {
   "cell_type": "code",
   "execution_count": null,
   "metadata": {},
   "outputs": [],
   "source": []
  }
 ],
 "metadata": {
  "kernelspec": {
   "display_name": "Python 3",
   "language": "python",
   "name": "python3"
  },
  "language_info": {
   "codemirror_mode": {
    "name": "ipython",
    "version": 3
   },
   "file_extension": ".py",
   "mimetype": "text/x-python",
   "name": "python",
   "nbconvert_exporter": "python",
   "pygments_lexer": "ipython3",
   "version": "3.6.8"
  }
 },
 "nbformat": 4,
 "nbformat_minor": 2
}
